{
 "cells": [
  {
   "cell_type": "markdown",
   "id": "8a65d161-bc37-4f9b-82bb-bd0d0fc578e0",
   "metadata": {},
   "source": [
    "# Q1. Write a program to print numbers from 1 to 10, but stop if the number is 5."
   ]
  },
  {
   "cell_type": "code",
   "execution_count": 3,
   "id": "0b4c07ba-d89e-40b0-9873-5714e70b8a07",
   "metadata": {},
   "outputs": [
    {
     "name": "stdout",
     "output_type": "stream",
     "text": [
      "1\n",
      "2\n",
      "3\n",
      "4\n",
      "i is equal to 5, so loop is break\n"
     ]
    }
   ],
   "source": [
    "for i in range(1,11):\n",
    "    if i==5:\n",
    "        print(\"i is equal to 5, so loop is break\")\n",
    "        break\n",
    "    print(i)"
   ]
  },
  {
   "cell_type": "markdown",
   "id": "b06b5cba-0671-4992-a631-6e7a88a42e15",
   "metadata": {},
   "source": [
    "# Q2. Write a program to iterate through a list and stop when encountering a specific element."
   ]
  },
  {
   "cell_type": "code",
   "execution_count": 4,
   "id": "4b4b91c0-7e4c-4c0e-a585-c5e5f2f7cdf7",
   "metadata": {},
   "outputs": [
    {
     "name": "stdout",
     "output_type": "stream",
     "text": [
      "10\n",
      "5\n",
      "25\n",
      "16\n",
      "35\n",
      "45\n"
     ]
    }
   ],
   "source": [
    "l = [10,5,25,16,35,45,65]\n",
    "for i in l:\n",
    "    print(i)\n",
    "    if i>40:\n",
    "        break"
   ]
  },
  {
   "cell_type": "markdown",
   "id": "d44487c2-bcd1-451a-82ee-a09f7a5cc7fa",
   "metadata": {},
   "source": [
    "# Q3. Write a program to skip printing even numbers from 1 to 10."
   ]
  },
  {
   "cell_type": "code",
   "execution_count": 6,
   "id": "d0a64358-d6b8-412d-bcb7-7c81f28fbd29",
   "metadata": {},
   "outputs": [
    {
     "name": "stdout",
     "output_type": "stream",
     "text": [
      "1\n",
      "3\n",
      "5\n",
      "7\n",
      "9\n"
     ]
    }
   ],
   "source": [
    "for i in range(1,11):\n",
    "    if i%2==0:\n",
    "        continue\n",
    "    print(i)"
   ]
  },
  {
   "cell_type": "markdown",
   "id": "bbf77681-2916-4474-a11b-39dd3121b22f",
   "metadata": {},
   "source": [
    "# Q4. Write a program to print numbers from O to 9 using range()."
   ]
  },
  {
   "cell_type": "code",
   "execution_count": 7,
   "id": "c0c513e3-b391-485b-a328-6a7e22d094ea",
   "metadata": {},
   "outputs": [
    {
     "name": "stdout",
     "output_type": "stream",
     "text": [
      "1\n",
      "2\n",
      "3\n",
      "4\n",
      "5\n",
      "6\n",
      "7\n",
      "8\n",
      "9\n"
     ]
    }
   ],
   "source": [
    "for i in range(1,10):\n",
    "    print(i)"
   ]
  },
  {
   "cell_type": "markdown",
   "id": "30d9178c-b472-492e-8ea1-ae6ad59a06fd",
   "metadata": {},
   "source": [
    "# Q5. Write a program to print multiplication tables from I to 5, but stop after the first table is printed for each number."
   ]
  },
  {
   "cell_type": "code",
   "execution_count": 6,
   "id": "43d65f46-732b-414d-8c87-e99ee33eb6bd",
   "metadata": {},
   "outputs": [
    {
     "name": "stdout",
     "output_type": "stream",
     "text": [
      "1 * 1 = 1\n",
      "1 * 2 = 2\n",
      "1 * 3 = 3\n",
      "1 * 4 = 4\n",
      "1 * 5 = 5\n",
      "1 * 6 = 6\n",
      "1 * 7 = 7\n",
      "1 * 8 = 8\n",
      "1 * 9 = 9\n",
      "1 * 10 = 10\n",
      "\n",
      "2 * 1 = 2\n",
      "2 * 2 = 4\n",
      "2 * 3 = 6\n",
      "2 * 4 = 8\n",
      "2 * 5 = 10\n",
      "2 * 6 = 12\n",
      "2 * 7 = 14\n",
      "2 * 8 = 16\n",
      "2 * 9 = 18\n",
      "2 * 10 = 20\n",
      "\n",
      "3 * 1 = 3\n",
      "3 * 2 = 6\n",
      "3 * 3 = 9\n",
      "3 * 4 = 12\n",
      "3 * 5 = 15\n",
      "3 * 6 = 18\n",
      "3 * 7 = 21\n",
      "3 * 8 = 24\n",
      "3 * 9 = 27\n",
      "3 * 10 = 30\n",
      "\n",
      "4 * 1 = 4\n",
      "4 * 2 = 8\n",
      "4 * 3 = 12\n",
      "4 * 4 = 16\n",
      "4 * 5 = 20\n",
      "4 * 6 = 24\n",
      "4 * 7 = 28\n",
      "4 * 8 = 32\n",
      "4 * 9 = 36\n",
      "4 * 10 = 40\n",
      "\n",
      "5 * 1 = 5\n",
      "5 * 2 = 10\n",
      "5 * 3 = 15\n",
      "5 * 4 = 20\n",
      "5 * 5 = 25\n",
      "5 * 6 = 30\n",
      "5 * 7 = 35\n",
      "5 * 8 = 40\n",
      "5 * 9 = 45\n",
      "5 * 10 = 50\n",
      "\n"
     ]
    }
   ],
   "source": [
    "for i in range(1,6):\n",
    "    for j in range(1,20):\n",
    "        if j>10:\n",
    "            print()\n",
    "            break\n",
    "        output = i*j\n",
    "        print(f\"{i } * {j } = {output}\")\n",
    "        "
   ]
  },
  {
   "cell_type": "markdown",
   "id": "7fb3a902-afbb-4f7b-ac99-70cce2ca0e4e",
   "metadata": {},
   "source": [
    "# Q6. Write a program to skip printing even numbers using a while loop."
   ]
  },
  {
   "cell_type": "code",
   "execution_count": 7,
   "id": "c854eeb0-1c44-46d2-97fc-0c091ad2c820",
   "metadata": {},
   "outputs": [
    {
     "name": "stdout",
     "output_type": "stream",
     "text": [
      "1\n",
      "3\n",
      "5\n",
      "7\n",
      "9\n"
     ]
    }
   ],
   "source": [
    "i = 0\n",
    "while i < 10:\n",
    "    i +=1\n",
    "    if i % 2 == 0:\n",
    "        continue\n",
    "    print(i)"
   ]
  },
  {
   "cell_type": "code",
   "execution_count": null,
   "id": "c779cc64-4d60-4022-a5e8-85dd7b2edc13",
   "metadata": {},
   "outputs": [],
   "source": []
  }
 ],
 "metadata": {
  "kernelspec": {
   "display_name": "Python 3 (ipykernel)",
   "language": "python",
   "name": "python3"
  },
  "language_info": {
   "codemirror_mode": {
    "name": "ipython",
    "version": 3
   },
   "file_extension": ".py",
   "mimetype": "text/x-python",
   "name": "python",
   "nbconvert_exporter": "python",
   "pygments_lexer": "ipython3",
   "version": "3.10.8"
  }
 },
 "nbformat": 4,
 "nbformat_minor": 5
}
